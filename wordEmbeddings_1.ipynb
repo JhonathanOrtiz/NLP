{
  "nbformat": 4,
  "nbformat_minor": 0,
  "metadata": {
    "colab": {
      "name": "wordEmbeddings-1.ipynb",
      "provenance": [],
      "authorship_tag": "ABX9TyPzPXfSaJYkPaF6CdLcvQOF",
      "include_colab_link": true
    },
    "kernelspec": {
      "name": "python3",
      "display_name": "Python 3"
    }
  },
  "cells": [
    {
      "cell_type": "markdown",
      "metadata": {
        "id": "view-in-github",
        "colab_type": "text"
      },
      "source": [
        "<a href=\"https://colab.research.google.com/github/JhonathanOrtiz/NLP/blob/master/wordEmbeddings_1.ipynb\" target=\"_parent\"><img src=\"https://colab.research.google.com/assets/colab-badge.svg\" alt=\"Open In Colab\"/></a>"
      ]
    },
    {
      "cell_type": "code",
      "metadata": {
        "id": "Z78P7LoOE0nH",
        "colab_type": "code",
        "colab": {}
      },
      "source": [
        "from gensim.utils import tokenize\n",
        "import re\n",
        "import tensorflow as tf\n",
        "import numpy as np\n",
        "from spacy.lang.es import Spanish\n",
        "import matplotlib.pyplot as plt\n",
        "%matplotlib inline"
      ],
      "execution_count": null,
      "outputs": []
    },
    {
      "cell_type": "code",
      "metadata": {
        "id": "3qwol_sY572i",
        "colab_type": "code",
        "colab": {
          "base_uri": "https://localhost:8080/",
          "height": 55
        },
        "outputId": "da9fcfb5-f9d0-43f1-cd5f-946fb5af1e5b"
      },
      "source": [
        "document = input()"
      ],
      "execution_count": null,
      "outputs": [
        {
          "output_type": "stream",
          "text": [
            "Para crear un programa, y que la computadora lo interprete y ejecute las instrucciones escritas en él, debe escribirse en un lenguaje de programación. En sus comienzos las computadoras interpretaban solo instrucciones en un lenguaje específico, del más bajo nivel, conocido como código máquina, siendo este excesivamente complicado para programar. De hecho solo consiste en cadenas de números 1 y 0 sistema binario. Para facilitar el trabajo de programación, los primeros científicos, que trabajaban en el área, decidieron reemplazar las instrucciones, secuencias de unos y ceros, por palabras o abreviaturas provenientes del inglés\n"
          ],
          "name": "stdout"
        }
      ]
    },
    {
      "cell_type": "markdown",
      "metadata": {
        "id": "N9W6MMoIAoY_",
        "colab_type": "text"
      },
      "source": [
        "\n",
        "\n",
        "> # <strong>PREPROCESSING</strong>\n",
        "\n",
        "<h2>Leer datos</h2>\n",
        "<body>El primer paso que debemos realizar para trabajar con texto y modelos e machine learning es preprocesar nuestros datos ya que dichos modelos no trabajan con texto, a ellos le encantan los números, el primer paso es tomar ese dataset de nuestro gusto y leerlos, usualmente encontramos entos archivos en formato .json o .txt, sin embargo esta vez usaremos la función input de python y así leeremos nuestros datos.\n",
        "</body>\n",
        "\n",
        "<h2>Minúsculas y espacios en blanco</h2>\n",
        "<body>\n",
        "Las mayúsculas y las sangrías tienen mucho significado gramatical y para nosotros los humanos es muy importante, sin embargo, para un modelo de Machine Learning en este caso, ésto es sólo ruido y no aportarian nada por lo el contrario ser causarnos problemas por esa razón ponemos todo en minusculas y suprimimos las sangrìas.\n",
        "</body>\n",
        "\n",
        "<h2>Tokenizar</h2>\n",
        "<body>\n",
        "Pensemos un poco si nuestros modelos son fanáticos de los números ¿Como podemos transformar esas cadenas de caracteres a numeros? \n",
        "*IDEA*: ¿Y si tratamos codificar las palabras como numeros? SI entonces para empezar a con ello debemos tokenizar y es simplmente tomar todo nuestro texto y hacer una lista con todas y cada una de las palabras, es decir, cada elemento de la lista será una compomente de nuestra lista, jugando con las maneras de tokenizar y los metodos de python podemos tokenizar por palabras o por oraciones, veremos que esto de es particularmente útil en breve.\n",
        "</body>"
      ]
    },
    {
      "cell_type": "markdown",
      "metadata": {
        "id": "iu7OTK9MvRBD",
        "colab_type": "text"
      },
      "source": [
        "\n",
        "> # <strong>Read data</strong>\n",
        "\n",
        "\n",
        "The first step we must do to work with text and models and machine learning is to pre-process our data as these models do not work with text, they love numbers, the first step is to take that dataset of our choice and read them, usually we find in these files in .json or .txt format, however this time we will use the python input function and read our data.\n",
        "\n",
        "<h2>Lowercase and white spaces</h2>\n",
        "\n",
        "Capital letters and indentations have a lot of grammatical meaning and for us humans it is very important, however, for a Machine Learning model in this case, this is just noise and would not contribute anything on the contrary be cause us problems for that reason we put everything in small letters and suppress the indentations.\n",
        "\n",
        "<h2>Tokenization</h2>\n",
        "\n",
        "Let's think a little if our models are fanatics of numbers. How can we transform those character chains into numbers? *IDEA*: What if we try to code the words as numbers? If to begin with we must tokenize and it is simply to take all our text and make a list with each and every word, that is to say, each element of the list will be a component of our list, playing with the ways of tokenizing and the methods of python we can tokenize by words or by sentences, we will see that this of is particularly useful soon.\n",
        "\n",
        "\n",
        "\n"
      ]
    },
    {
      "cell_type": "code",
      "metadata": {
        "id": "m1R-1jPer8Rt",
        "colab_type": "code",
        "colab": {}
      },
      "source": [
        "#Without spaces and all letters lower\n",
        "c = document.strip().lower()\n",
        "doc = c.split()\n",
        "\n",
        "nlp = Spanish()\n",
        "text = nlp(c)\n",
        "\n",
        "#Tokenize by words\n",
        "token_list = [w.text for w in text]\n",
        "\n",
        "words_set = set(token_list)\n",
        "vocab_size = len(words_set)\n",
        "\n",
        "#Tokenize by senceteces\n",
        "senteces = re.compile('[.,]').split(c)"
      ],
      "execution_count": null,
      "outputs": []
    },
    {
      "cell_type": "markdown",
      "metadata": {
        "id": "VeSwQPfuJuJo",
        "colab_type": "text"
      },
      "source": [
        "\n",
        "\n",
        "> # <strong>Diccionario</strong>\n",
        "\n",
        "¡Necesitaremos crear nuestro propio diccionario! Ya que nuestro dataset contiene n palabras distintas nuestra lista será de longitud n. Para navegar en ella crearemos un diccionario que dado una pabalabra nos regrese en indice y dado un indice nos regrese una palabra."
      ]
    },
    {
      "cell_type": "markdown",
      "metadata": {
        "id": "tK13765YRKuh",
        "colab_type": "text"
      },
      "source": [
        "\n",
        "\n",
        "> # <strong>Dictionary</strong>\n",
        "\n",
        "We will need a own dictionary, and thus to get a word given a number and get a number given a word. This will has more sense later."
      ]
    },
    {
      "cell_type": "code",
      "metadata": {
        "id": "U0cfkFPRI95-",
        "colab_type": "code",
        "colab": {}
      },
      "source": [
        "word2idx = {}\n",
        "idx2word = {}\n",
        "\n",
        "for index, word in enumerate(words_set):\n",
        "  word2idx[word]  = index\n",
        "  idx2word[index] = word"
      ],
      "execution_count": null,
      "outputs": []
    },
    {
      "cell_type": "markdown",
      "metadata": {
        "id": "RodtGV42SWMd",
        "colab_type": "text"
      },
      "source": [
        "\n",
        "\n",
        "> # <strong>One-Hot Encoding</strong>\n",
        "\n",
        "La primera idea para trabajar con texto fue decir transformemos cada palabra del diccionario en un numero, y hacemos one-hot encoding, es decir, si tenemos n palabras en el diccionario creamos un vector de tamaño n y si tomamos la n-ésima palabra entonces la n-ésima compomentes del vector será 1 y el resto cero. *Anlogía* Eso es como tomar un libro completo para cada palabra. *risas*\n",
        "\n",
        "Éste razonamiento es muy ùtil cuando en muchos casos, el problema de trabajar con texto y one hot-encoding es que estamos diciendo que todas las palabras del diccionario son equi-distantes, es decir, estamos afirmando qué la palabras como Manzana, Pera y Herramienta tienen la misma relación y eso no es cierto. \n",
        "\n",
        "Para corregir éste problema nació [word2vec](https://arxiv.org/abs/1301.3781) éste modelo de deep learning trata de predecir dada una cuales son los vecinos (Skip-Gram) ya veremos como funciona esto."
      ]
    },
    {
      "cell_type": "markdown",
      "metadata": {
        "id": "i-VaTEUqX6vJ",
        "colab_type": "text"
      },
      "source": [
        "![](https://chrisalbon.com/images/machine_learning_flashcards/One-Hot_Encoding_print.png)"
      ]
    },
    {
      "cell_type": "code",
      "metadata": {
        "id": "nWNGA7H2SWzE",
        "colab_type": "code",
        "colab": {}
      },
      "source": [
        "def to_categorical(word_idx, vocab_size):\n",
        "  one_hoted = np.zeros(vocab_size)\n",
        "  one_hoted[word_idx] = 1\n",
        "  return np.array(one_hoted)\n"
      ],
      "execution_count": null,
      "outputs": []
    },
    {
      "cell_type": "markdown",
      "metadata": {
        "id": "ORYA4hyrYQEA",
        "colab_type": "text"
      },
      "source": [
        "\n",
        "\n",
        "> # <strong>Skip-gram</strong>\n",
        "\n",
        "Si queremos entrenar un modelo de machine learning de manera supervisada necesitamos etiquetas para enseñarle al modelo a que categoria pertenece cada entrada y sòlo tenemos un corpus de texto? Entonces contruimos un algoritmo para generar esas etiquetas. Dado el problema queremos predecir las palabras vecinaas dada alguna palabra. Con skip-gram nos paramos en cada una de las palabras de la oración y tomamos las dos de la derecha y las dos de la izquierda, esas cuatro serán las etiquetas para la palabra.\n",
        "\n",
        "Ahora pensemos porque esto tiene sentido.\n",
        "\n",
        "Primero, nuestro problema es que con one-hot decimos que todas las palabras tienen la misma relación por ejemplo que perro y carro tiene la misma relación que perro y lobo, la verdad es que no es cierto por tal motivo queremos una representación mas real.\n",
        "\n",
        "Si ponemos a una red neuronal que dada una palabra pueda predecir las palabras vecinas entonces la red se verá en la neceidad de aprender a codificar en la capa oculta esas relaciones que estamos buscando, después solo la tomamos y problema resulto."
      ]
    },
    {
      "cell_type": "markdown",
      "metadata": {
        "id": "kp-fRJr7cAIK",
        "colab_type": "text"
      },
      "source": [
        "\n",
        "\n",
        "> # <strong> Skip-Gram </strong>\n",
        "\n",
        "When we train a Supervise Deep Learning we need Data and Label, but in this case we only have corpus data. Then we build and algorithm and generate label.. if our sentence is a list of word so, we take a simple word and take 2 neighbor from the rigth side and 2 neighbor from the left side and these are the label for this simple word.\n",
        "\n",
        "Now let's think about, why does it make sense.\n",
        "\n",
        "Our problem is that with one-hot representation all words has the same distance on a plane, I mean with one-hot representation we say that, each word has the same relationship, for example, Queen, Princess, and Car have the same relationship and this is not correct because, Queen and princess have more relationship than Queen and Car.. \n",
        "\n",
        "With skip-gram we take a word and the neighbors are the label, neighbor word could have a relationship, So a neural netword learn to predict a neighbor word given a word to solve this task the neural network learn to encode this one-hot vector to classify it. Then if we take the hidden layer we have a representation where word that have a strong relationship are closer than another word that not.\n"
      ]
    },
    {
      "cell_type": "markdown",
      "metadata": {
        "id": "sgHZ33zhuiL9",
        "colab_type": "text"
      },
      "source": [
        "![](https://cdn-images-1.medium.com/max/1600/0*Q7o7qvuJf7W6JNeY.png)"
      ]
    },
    {
      "cell_type": "code",
      "metadata": {
        "id": "oyYR5GZteqjl",
        "colab_type": "code",
        "colab": {}
      },
      "source": [
        "def skip_gram(senteces, wz):\n",
        "\n",
        "  data =[]\n",
        "\n",
        "  for sentece in senteces:\n",
        "    sentece = sentece.split()\n",
        "    for i, word in enumerate(sentece):\n",
        "      for nb_word in sentece[max(i-wz, 0): min(i+wz, len(sentece))+1]:\n",
        "        if word != nb_word:\n",
        "           data.append([word, nb_word])\n",
        "  return data"
      ],
      "execution_count": null,
      "outputs": []
    },
    {
      "cell_type": "markdown",
      "metadata": {
        "id": "Tb_WnO58ku4N",
        "colab_type": "text"
      },
      "source": [
        "\n",
        "\n",
        "> # <Strong>Modelo</strong>\n",
        "\n",
        "El modelo es tan sencillo como un una simple red neuronal multicapa con una capa oculta la cual crearemos sin los API, por el contrario crearemos las matrices desde cero, para que luego sea mas sencillo tomarlas.\n",
        "\n",
        "\n"
      ]
    },
    {
      "cell_type": "markdown",
      "metadata": {
        "id": "FDmPOHOqlZHA",
        "colab_type": "text"
      },
      "source": [
        "\n",
        "\n",
        ">  # <Strong>Model</strong>\n",
        "\n",
        "\n",
        "The model is as simple as a simple multi-layer neural network with a hidden layer which we will create without the APIs, on the contrary we will create the arrays from scratch, so that later it will be easier to take them."
      ]
    },
    {
      "cell_type": "markdown",
      "metadata": {
        "id": "nI0Ih5vXlfTd",
        "colab_type": "text"
      },
      "source": [
        "![](https://www.researchgate.net/publication/334209824/figure/fig3/AS:776808106577938@1562216893819/Word2vec-skip-gram-and-analogies-a-Target-words-LiCoO2-and-LiMn2O4-are-represented.png)"
      ]
    },
    {
      "cell_type": "code",
      "metadata": {
        "id": "rSa-7dfqv4MX",
        "colab_type": "code",
        "colab": {}
      },
      "source": [
        "class word2vec:\n",
        "  def __init__(self, vocab_size=0, embedding_size=16, optimizer='sgd', epochs=1000):\n",
        "    self.vocab_size = vocab_size\n",
        "    self.embedding_size = embedding_size\n",
        "    self.epochs= epochs\n",
        "    if optimizer == 'adam':\n",
        "      self.optimizer = tf.optimizers.Adam()\n",
        "    else:\n",
        "      self.optimizer = tf.optimizers.SGD()\n",
        "  \n",
        "  def vectorized(self, word_idx):\n",
        "    return (self.w1+self.b1)[word_idx]\n",
        "  \n",
        "  def train(self, x_train=None, y_train=None):\n",
        "    if x_train is not None and y_train is not None:\n",
        "    \n",
        "      #first hidden layer\n",
        "      self.w1 = tf.Variable(tf.random.normal([self.vocab_size, self.embedding_size], dtype=tf.float32)) #weights matrix\n",
        "      print(self.w1.shape)\n",
        "      self.b1 = tf.Variable(tf.random.normal([self.embedding_size])) #Bias vector\n",
        "\n",
        "      #output layers\n",
        "      self.w2 = tf.Variable(tf.random.normal([self.embedding_size, self.vocab_size], dtype=tf.float32))\n",
        "      self.b2 = tf.Variable(tf.random.normal([self.vocab_size], dtype=tf.float32))\n",
        "      \n",
        "      \n",
        "      for epoch in range(self.epochs):\n",
        "        with tf.GradientTape() as t:\n",
        "          loss = []\n",
        "          #Start train\n",
        "          f_out = tf.add(tf.matmul(x_train, self.w1), self.b1)\n",
        "          output = tf.nn.softmax(tf.add(tf.matmul(f_out, self.w2), self.b2))\n",
        "\n",
        "          #Compute loss\n",
        "          cross_entropy_loss = tf.reduce_mean(-tf.math.reduce_sum(y_train * tf.math.log(output), axis=[1]))\n",
        "            \n",
        "\n",
        "        gradients = t.gradient(cross_entropy_loss, [self.w1, self.b1, self.w2, self.b2])\n",
        "        self.optimizer.apply_gradients(zip(gradients,[self.w1, self.b1, self.w2, self.b2]))\n",
        "        loss.append(cross_entropy_loss)\n",
        "        if epoch % 50 == 0:\n",
        "          print('Loss {}'.format(cross_entropy_loss))\n",
        "\n",
        "    return loss\n",
        "\n",
        "  "
      ],
      "execution_count": null,
      "outputs": []
    },
    {
      "cell_type": "code",
      "metadata": {
        "id": "Os24sR03uoaO",
        "colab_type": "code",
        "colab": {
          "base_uri": "https://localhost:8080/",
          "height": 35
        },
        "outputId": "c7163b7f-9e26-4a82-e286-781048e4ed78"
      },
      "source": [
        "skip = skip_gram(senteces, wz = 2)\n",
        "\n",
        "x_train = []\n",
        "y_train = []\n",
        "\n",
        "for data_word in skip:\n",
        "   x_train.append(to_categorical(word2idx[ data_word[0] ], vocab_size))\n",
        "   y_train.append(to_categorical(word2idx[ data_word[1] ], vocab_size))\n",
        "\n",
        "x_train = np.asarray(x_train, dtype='float32')\n",
        "y_train = np.asarray(y_train, dtype='float32')\n",
        "print('x_train dimentions: {}, y_train dimentions {}'.format(x_train.shape, y_train.shape))"
      ],
      "execution_count": null,
      "outputs": [
        {
          "output_type": "stream",
          "text": [
            "x_train dimentions: (288, 69), y_train dimentions (288, 69)\n"
          ],
          "name": "stdout"
        }
      ]
    },
    {
      "cell_type": "code",
      "metadata": {
        "id": "F8VDc4ARgW0i",
        "colab_type": "code",
        "colab": {
          "base_uri": "https://localhost:8080/",
          "height": 1000
        },
        "outputId": "bebe90eb-e596-44fc-9b12-6859cc810837"
      },
      "source": [
        "w2v = word2vec(vocab_size=vocab_size, embedding_size=50,  optimizer='adam', epochs=10000)\n",
        "loss = w2v.train(x_train, y_train)"
      ],
      "execution_count": null,
      "outputs": [
        {
          "output_type": "stream",
          "text": [
            "(69, 50)\n",
            "Loss 22.812355041503906\n",
            "Loss 17.437318801879883\n",
            "Loss 13.574827194213867\n",
            "Loss 10.652231216430664\n",
            "Loss 8.347795486450195\n",
            "Loss 6.595494747161865\n",
            "Loss 5.28012752532959\n",
            "Loss 4.24859619140625\n",
            "Loss 3.4416427612304688\n",
            "Loss 2.852064847946167\n",
            "Loss 2.445736885070801\n",
            "Loss 2.1660215854644775\n",
            "Loss 1.9784342050552368\n",
            "Loss 1.8475638628005981\n",
            "Loss 1.7628902196884155\n",
            "Loss 1.7155022621154785\n",
            "Loss 1.686246633529663\n",
            "Loss 1.6668224334716797\n",
            "Loss 1.6542824506759644\n",
            "Loss 1.646036982536316\n",
            "Loss 1.6402324438095093\n",
            "Loss 1.635805368423462\n",
            "Loss 1.6322847604751587\n",
            "Loss 1.6294121742248535\n",
            "Loss 1.6270217895507812\n",
            "Loss 1.625002384185791\n",
            "Loss 1.6232744455337524\n",
            "Loss 1.6217801570892334\n",
            "Loss 1.620476245880127\n",
            "Loss 1.6193292140960693\n",
            "Loss 1.618313193321228\n",
            "Loss 1.6174079179763794\n",
            "Loss 1.6165966987609863\n",
            "Loss 1.6158661842346191\n",
            "Loss 1.6152055263519287\n",
            "Loss 1.61460542678833\n",
            "Loss 1.6140587329864502\n",
            "Loss 1.613558292388916\n",
            "Loss 1.6130993366241455\n",
            "Loss 1.6126770973205566\n",
            "Loss 1.6122875213623047\n",
            "Loss 1.6119272708892822\n",
            "Loss 1.611593246459961\n",
            "Loss 1.6112828254699707\n",
            "Loss 1.6109938621520996\n",
            "Loss 1.6107245683670044\n",
            "Loss 1.6104729175567627\n",
            "Loss 1.6102373600006104\n",
            "Loss 1.6100164651870728\n",
            "Loss 1.6098090410232544\n",
            "Loss 1.6096142530441284\n",
            "Loss 1.6094307899475098\n",
            "Loss 1.6092578172683716\n",
            "Loss 1.6090946197509766\n",
            "Loss 1.6089403629302979\n",
            "Loss 1.6087945699691772\n",
            "Loss 1.608656406402588\n",
            "Loss 1.6085256338119507\n",
            "Loss 1.6084014177322388\n",
            "Loss 1.608283519744873\n",
            "Loss 1.6081713438034058\n",
            "Loss 1.608064889907837\n",
            "Loss 1.6079635620117188\n",
            "Loss 1.607866883277893\n",
            "Loss 1.6077747344970703\n",
            "Loss 1.6076867580413818\n",
            "Loss 1.607602834701538\n",
            "Loss 1.60752272605896\n",
            "Loss 1.6074461936950684\n",
            "Loss 1.607372760772705\n",
            "Loss 1.6073026657104492\n",
            "Loss 1.6072355508804321\n",
            "Loss 1.6071714162826538\n",
            "Loss 1.607109546661377\n",
            "Loss 1.6070504188537598\n",
            "Loss 1.6069937944412231\n",
            "Loss 1.6069393157958984\n",
            "Loss 1.6068869829177856\n",
            "Loss 1.6068367958068848\n",
            "Loss 1.6067886352539062\n",
            "Loss 1.606742024421692\n",
            "Loss 1.6066974401474\n",
            "Loss 1.6066545248031616\n",
            "Loss 1.6066131591796875\n",
            "Loss 1.6065733432769775\n",
            "Loss 1.6065349578857422\n",
            "Loss 1.606498122215271\n",
            "Loss 1.6064623594284058\n",
            "Loss 1.6064281463623047\n",
            "Loss 1.60639488697052\n",
            "Loss 1.6063628196716309\n",
            "Loss 1.6063321828842163\n",
            "Loss 1.6063023805618286\n",
            "Loss 1.6062736511230469\n",
            "Loss 1.6062458753585815\n",
            "Loss 1.606218934059143\n",
            "Loss 1.6061930656433105\n",
            "Loss 1.6061681509017944\n",
            "Loss 1.6061439514160156\n",
            "Loss 1.6061204671859741\n",
            "Loss 1.60609769821167\n",
            "Loss 1.6060758829116821\n",
            "Loss 1.6060547828674316\n",
            "Loss 1.6060341596603394\n",
            "Loss 1.606014370918274\n",
            "Loss 1.6059952974319458\n",
            "Loss 1.6059765815734863\n",
            "Loss 1.6059587001800537\n",
            "Loss 1.6059411764144897\n",
            "Loss 1.605924367904663\n",
            "Loss 1.6059080362319946\n",
            "Loss 1.6058921813964844\n",
            "Loss 1.6058765649795532\n",
            "Loss 1.6058619022369385\n",
            "Loss 1.6058474779129028\n",
            "Loss 1.6058334112167358\n",
            "Loss 1.605819821357727\n",
            "Loss 1.605806827545166\n",
            "Loss 1.605793833732605\n",
            "Loss 1.6057814359664917\n",
            "Loss 1.6057695150375366\n",
            "Loss 1.6057580709457397\n",
            "Loss 1.6057466268539429\n",
            "Loss 1.6057355403900146\n",
            "Loss 1.6057249307632446\n",
            "Loss 1.6057145595550537\n",
            "Loss 1.605704665184021\n",
            "Loss 1.6056948900222778\n",
            "Loss 1.6056854724884033\n",
            "Loss 1.605676293373108\n",
            "Loss 1.605667233467102\n",
            "Loss 1.6056585311889648\n",
            "Loss 1.6056501865386963\n",
            "Loss 1.6056420803070068\n",
            "Loss 1.605634093284607\n",
            "Loss 1.6056264638900757\n",
            "Loss 1.605618953704834\n",
            "Loss 1.6056115627288818\n",
            "Loss 1.605604648590088\n",
            "Loss 1.6055976152420044\n",
            "Loss 1.605591058731079\n",
            "Loss 1.6055845022201538\n",
            "Loss 1.605578064918518\n",
            "Loss 1.6055721044540405\n",
            "Loss 1.6055660247802734\n",
            "Loss 1.605560302734375\n",
            "Loss 1.6055545806884766\n",
            "Loss 1.6055490970611572\n",
            "Loss 1.6055439710617065\n",
            "Loss 1.6055387258529663\n",
            "Loss 1.6055337190628052\n",
            "Loss 1.605528712272644\n",
            "Loss 1.6055238246917725\n",
            "Loss 1.6055192947387695\n",
            "Loss 1.6055148839950562\n",
            "Loss 1.6055104732513428\n",
            "Loss 1.6055060625076294\n",
            "Loss 1.6055021286010742\n",
            "Loss 1.60549795627594\n",
            "Loss 1.6054941415786743\n",
            "Loss 1.6054902076721191\n",
            "Loss 1.605486512184143\n",
            "Loss 1.6054829359054565\n",
            "Loss 1.6054795980453491\n",
            "Loss 1.6054760217666626\n",
            "Loss 1.6054728031158447\n",
            "Loss 1.6054693460464478\n",
            "Loss 1.605466365814209\n",
            "Loss 1.6054632663726807\n",
            "Loss 1.6054604053497314\n",
            "Loss 1.6054573059082031\n",
            "Loss 1.605454921722412\n",
            "Loss 1.6054518222808838\n",
            "Loss 1.6054491996765137\n",
            "Loss 1.605446696281433\n",
            "Loss 1.6054438352584839\n",
            "Loss 1.6054415702819824\n",
            "Loss 1.6054390668869019\n",
            "Loss 1.6054368019104004\n",
            "Loss 1.6054363250732422\n",
            "Loss 1.6054322719573975\n",
            "Loss 1.6054301261901855\n",
            "Loss 1.6054280996322632\n",
            "Loss 1.6054266691207886\n",
            "Loss 1.6054240465164185\n",
            "Loss 1.6054221391677856\n",
            "Loss 1.6054202318191528\n",
            "Loss 1.6054185628890991\n",
            "Loss 1.6054166555404663\n",
            "Loss 1.6054153442382812\n",
            "Loss 1.6054131984710693\n",
            "Loss 1.6054117679595947\n",
            "Loss 1.605410099029541\n",
            "Loss 1.6054084300994873\n",
            "Loss 1.605407476425171\n",
            "Loss 1.605405569076538\n",
            "Loss 1.605404257774353\n",
            "Loss 1.6054030656814575\n",
            "Loss 1.6054013967514038\n",
            "Loss 1.6054000854492188\n"
          ],
          "name": "stdout"
        }
      ]
    },
    {
      "cell_type": "code",
      "metadata": {
        "id": "PnIAT3-dAEyP",
        "colab_type": "code",
        "colab": {}
      },
      "source": [
        "word_vecs = []\n",
        "\n",
        "for word in words_set:\n",
        " vector = w2v.vectorized(word2idx[word])\n",
        " word_vecs.append(vector)\n",
        "\n",
        "vectors = np.array(word_vecs)"
      ],
      "execution_count": null,
      "outputs": []
    },
    {
      "cell_type": "code",
      "metadata": {
        "id": "pLrUIkpOAPJc",
        "colab_type": "code",
        "colab": {}
      },
      "source": [
        "from sklearn.manifold import TSNE\n",
        "from sklearn import preprocessing\n",
        "\n",
        "model = TSNE(n_components=2)\n",
        "vectors = model.fit_transform(vectors) \n",
        "\n"
      ],
      "execution_count": null,
      "outputs": []
    },
    {
      "cell_type": "code",
      "metadata": {
        "id": "gosDl8ciJXwF",
        "colab_type": "code",
        "colab": {
          "base_uri": "https://localhost:8080/",
          "height": 863
        },
        "outputId": "7b2c87f6-b726-4c0a-b56d-11f14a2a4f6d"
      },
      "source": [
        "x = []\n",
        "y = []\n",
        "for coordinate in vectors:\n",
        "  x.append(coordinate[0])\n",
        "  y.append(coordinate[1])\n",
        "\n",
        "\n",
        "plt.figure(figsize=(15,15))\n",
        "for i, word in enumerate(words_set):\n",
        "  plt.scatter(x[i], y[i])\n",
        "  plt.annotate(word,\n",
        "               xy=(x[i], y[i]),\n",
        "               xytext=(5, 2),\n",
        "               textcoords='offset points',\n",
        "               ha='right',\n",
        "               va='bottom')\n",
        "plt.show()"
      ],
      "execution_count": null,
      "outputs": [
        {
          "output_type": "display_data",
          "data": {
            "image/png": "[encoded data removed]",
            "text/plain": [
              "<Figure size 1080x1080 with 1 Axes>"
            ]
          },
          "metadata": {
            "tags": [],
            "needs_background": "light"
          }
        }
      ]
    }
  ]
}